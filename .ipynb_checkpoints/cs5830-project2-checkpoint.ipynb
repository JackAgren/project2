{
 "cells": [
  {
   "cell_type": "code",
   "execution_count": null,
   "id": "de9e637e-0254-49b2-982b-000682385a6e",
   "metadata": {},
   "outputs": [],
   "source": [
    "import pandas as pd"
   ]
  },
  {
   "cell_type": "code",
   "execution_count": null,
   "id": "02c12749-539a-41a9-ad11-378718750243",
   "metadata": {},
   "outputs": [],
   "source": [
    "crime = pd.read_csv('crime-housing-austin-2015.csv')"
   ]
  },
  {
   "cell_type": "code",
   "execution_count": null,
   "id": "78eb8d5f-4e7c-410b-9594-5dd80b4dfcbb",
   "metadata": {},
   "outputs": [],
   "source": [
    "#Report_Date column is a String.\n",
    "crime['Report_Date'].dtype\n",
    "crime['Report_Date'] = pd.to_datetime(crime['Report_Date'], format='%d-%b-%y')"
   ]
  },
  {
   "cell_type": "code",
   "execution_count": null,
   "id": "59f5c087-f0a4-4084-95ef-914a0a77e67c",
   "metadata": {},
   "outputs": [],
   "source": [
    "def get_season(date):\n",
    "    if (pd.Timestamp('20-Mar-15') <= date < pd.Timestamp('21-Jun-15')):\n",
    "        return 'Spring'\n",
    "    elif (pd.Timestamp('21-Jun-15') <= date < pd.Timestamp('22-Sep-15')):\n",
    "        return 'Summer'\n",
    "    elif (pd.Timestamp('22-Sep-15') <= date < pd.Timestamp('21-Dec-15')):\n",
    "        return 'Fall'\n",
    "    else:\n",
    "        return 'Winter'\n",
    "\n",
    "crime['Season'] = crime['Report_Date'].apply(get_season)"
   ]
  }
 ],
 "metadata": {
  "kernelspec": {
   "display_name": "Python 3 (ipykernel)",
   "language": "python",
   "name": "python3"
  },
  "language_info": {
   "codemirror_mode": {
    "name": "ipython",
    "version": 3
   },
   "file_extension": ".py",
   "mimetype": "text/x-python",
   "name": "python",
   "nbconvert_exporter": "python",
   "pygments_lexer": "ipython3",
   "version": "3.10.12"
  }
 },
 "nbformat": 4,
 "nbformat_minor": 5
}
