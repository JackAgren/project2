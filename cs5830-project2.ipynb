{
 "cells": [
  {
   "cell_type": "code",
   "execution_count": null,
   "id": "de9e637e-0254-49b2-982b-000682385a6e",
   "metadata": {},
   "outputs": [],
   "source": [
    "import pandas as pd\n",
    "import seaborn as sns\n",
    "import matplotlib.pyplot as plt\n",
    "from scipy.stats import pearsonr"
   ]
  },
  {
   "cell_type": "code",
   "execution_count": null,
   "id": "02c12749-539a-41a9-ad11-378718750243",
   "metadata": {},
   "outputs": [],
   "source": [
    "crime = pd.read_csv('crime-housing-austin-2015.csv')"
   ]
  },
  {
   "cell_type": "code",
   "execution_count": null,
   "id": "78eb8d5f-4e7c-410b-9594-5dd80b4dfcbb",
   "metadata": {},
   "outputs": [],
   "source": [
    "#Report_Date column is a String.\n",
    "crime['Report_Date'].dtype\n",
    "crime['Report_Date'] = pd.to_datetime(crime['Report_Date'], format='%d-%b-%y')"
   ]
  },
  {
   "cell_type": "code",
   "execution_count": null,
   "id": "59f5c087-f0a4-4084-95ef-914a0a77e67c",
   "metadata": {},
   "outputs": [],
   "source": [
    "YEAR = 2015\n",
    "spring_start = pd.Timestamp(month=3, day=21, year=YEAR)\n",
    "summer_start = pd.Timestamp(month=6, day=21, year=YEAR)\n",
    "fall_start = pd.Timestamp(month=9, day=23, year=YEAR)\n",
    "winter_start = pd.Timestamp(month=12, day=21, year=YEAR)\n",
    "\n",
    "def get_season(date):\n",
    "    if date >= spring_start and date < summer_start:\n",
    "        return 'Spring'\n",
    "    elif date >= summer_start and date < fall_start:\n",
    "        return 'Summer'\n",
    "    elif date >= fall_start and date < winter_start:\n",
    "        return 'Fall'\n",
    "    else:\n",
    "        return 'Winter'\n",
    "\n",
    "crime['Season'] = crime['Report_Date'].apply(get_season)"
   ]
  },
  {
   "cell_type": "code",
   "execution_count": null,
   "id": "f2181b39",
   "metadata": {},
   "outputs": [],
   "source": [
    "# Horizontal chart of crimes by season\n",
    "plt.figure(figsize=(10, 10))\n",
    "sns.countplot(y='Highest_NIBRS_UCR_Offense_Description', hue='Season', data=crime)"
   ]
  },
  {
   "cell_type": "code",
   "execution_count": null,
   "id": "64881094",
   "metadata": {},
   "outputs": [],
   "source": [
    "season_counts = crime.groupby('Season').agg({'Report_Date':'size'}).reset_index()\n",
    "display(season_counts)\n",
    "day_counts = crime.groupby(['Report_Date', 'Season']).size().reset_index(name='count')\n",
    "sns.barplot(data=season_counts, x='Season', y='Report_Date')\n",
    "plt.title('Total crimes by season')\n",
    "plt.figure()\n",
    "sns.scatterplot(data=day_counts, x='Report_Date', y='count')\n",
    "plt.title('Number of crimes each day')"
   ]
  },
  {
   "cell_type": "code",
   "execution_count": null,
   "id": "5235a7f1",
   "metadata": {},
   "outputs": [],
   "source": [
    "day_counts['count']\n",
    "sns.displot(data=day_counts, x='count', kind='kde', hue='Season')"
   ]
  },
  {
   "cell_type": "markdown",
   "id": "ee781c91",
   "metadata": {},
   "source": [
    "Anova Assumptions: \n",
    "+ Data are normally distributed. Looks like it from the plots, and n is large.\n",
    "+ Data have the same variance: Could test this more but probably good\n",
    "+ Data are independent: The scatterplot above is evidence of this.\n"
   ]
  },
  {
   "cell_type": "code",
   "execution_count": null,
   "id": "e80f3977",
   "metadata": {},
   "outputs": [],
   "source": [
    "import scipy.stats as stats\n",
    "#Significance threshold: .05\n",
    "# Null hypothesis: all groups have the same population mean\n",
    "display(stats.f_oneway(day_counts[day_counts['Season'] == 'Winter']['count'], \n",
    "               day_counts[day_counts['Season'] == 'Spring']['count'], \n",
    "               day_counts[day_counts['Season'] == 'Summer']['count'], \n",
    "               day_counts[day_counts['Season'] == 'Fall']['count']))\n"
   ]
  },
  {
   "cell_type": "code",
   "execution_count": null,
   "id": "e965c1e9",
   "metadata": {},
   "outputs": [],
   "source": [
    "#We can do this since the anova gave a significant result.\n",
    "\n",
    "tukey_pvalue = stats.tukey_hsd(day_counts[day_counts['Season'] == 'Winter']['count'], \n",
    "               day_counts[day_counts['Season'] == 'Spring']['count'], \n",
    "               day_counts[day_counts['Season'] == 'Summer']['count'], \n",
    "               day_counts[day_counts['Season'] == 'Fall']['count']).pvalue\n",
    "tukey = pd.DataFrame(tukey_pvalue)\n",
    "tukey.columns=['Winter', 'Spring', 'Summer', 'Fall']\n",
    "display(tukey)\n",
    "print('Winter avg crimes per day: ', \n",
    "      day_counts[day_counts['Season'] == 'Winter']['count'].mean(), \n",
    "      '\\nSummer avg crimes per day: ', \n",
    "      day_counts[day_counts['Season'] == 'Summer']['count'].mean())"
   ]
  },
  {
   "cell_type": "markdown",
   "id": "7abc8d2f",
   "metadata": {},
   "source": [
    "This shows that winter and summer are significantly different, but none of the others. Why?\n",
    "\n",
    "+ Tourists might be easy targets; or they might bring extra crime\n",
    "+ It's easier to go out and do things when it's warm vs when it's cold."
   ]
  },
  {
   "cell_type": "markdown",
   "id": "d8e03605",
   "metadata": {},
   "source": [
    "## Crime Type"
   ]
  },
  {
   "cell_type": "code",
   "execution_count": null,
   "id": "7e98296a",
   "metadata": {},
   "outputs": [],
   "source": [
    "crime_types = crime.groupby('Highest_NIBRS_UCR_Offense_Description')['Key'].nunique().reset_index(name='crime_sum')"
   ]
  },
  {
   "cell_type": "code",
   "execution_count": null,
   "id": "7256dbc9",
   "metadata": {},
   "outputs": [],
   "source": [
    "plt.figure(figsize=(8,4))\n",
    "bar = sns.barplot(x='Highest_NIBRS_UCR_Offense_Description', y='crime_sum', data=crime_types)\n",
    "bar.set_xticklabels(bar.get_xticklabels(), rotation=0)\n",
    "bar.set(xlabel='Crime Type', ylabel='Number of Crimes', title='Crime Type vs. Number of Crimes')\n",
    "plt.show()"
   ]
  },
  {
   "cell_type": "markdown",
   "id": "80767214",
   "metadata": {},
   "source": [
    "## Crimes by Season"
   ]
  },
  {
   "cell_type": "code",
   "execution_count": null,
   "id": "d45759c0",
   "metadata": {},
   "outputs": [],
   "source": [
    "fall_crime = crime[crime['Season'] == 'Fall']\n",
    "crime_types_fall = fall_crime.groupby('Highest_NIBRS_UCR_Offense_Description')['Key'].nunique().reset_index(name='crime_sum')\n",
    "\n",
    "spring_crime = crime[crime['Season'] == 'Spring']\n",
    "crime_types_spring = spring_crime.groupby('Highest_NIBRS_UCR_Offense_Description')['Key'].nunique().reset_index(name='crime_sum')\n",
    "\n",
    "winter_crime = crime[crime['Season'] == 'Winter']\n",
    "crime_types_winter = winter_crime.groupby('Highest_NIBRS_UCR_Offense_Description')['Key'].nunique().reset_index(name='crime_sum')\n",
    "\n",
    "summer_crime = crime[crime['Season'] == 'Summer']\n",
    "crime_types_summer = summer_crime.groupby('Highest_NIBRS_UCR_Offense_Description')['Key'].nunique().reset_index(name='crime_sum')"
   ]
  },
  {
   "cell_type": "markdown",
   "id": "fd1a49d4",
   "metadata": {},
   "source": [
    "## Crime and Median Household Income"
   ]
  },
  {
   "cell_type": "code",
   "execution_count": null,
   "id": "33d389ca",
   "metadata": {},
   "outputs": [],
   "source": [
    "crime['Medianhouseholdincome'] = crime['Medianhouseholdincome'].str.replace('$', '').str.replace(' ', '').str.replace(',', '').astype('float')\n"
   ]
  },
  {
   "cell_type": "code",
   "execution_count": null,
   "id": "fcc8983a",
   "metadata": {},
   "outputs": [],
   "source": [
    "crime['Medianhouseholdincome'].describe()"
   ]
  },
  {
   "cell_type": "code",
   "execution_count": null,
   "id": "ca8bbb67",
   "metadata": {},
   "outputs": [],
   "source": [
    "def get_poor(median_income):\n",
    "    if median_income <= 41869:\n",
    "        return 1\n",
    "    else:\n",
    "        return 0\n",
    "\n",
    "crime['poor_indicator'] = crime['Medianhouseholdincome'].apply(get_poor)"
   ]
  },
  {
   "cell_type": "code",
   "execution_count": null,
   "id": "084dca6d",
   "metadata": {},
   "outputs": [],
   "source": [
    "def get_severity(type):\n",
    "    if type == 'Theft': #3.7 Years\n",
    "        return 1\n",
    "    elif type == 'Auto Theft': #4.0 Years\n",
    "        return 2\n",
    "    elif type == 'Agg Assault': #5.6 Years\n",
    "        return 3\n",
    "    elif type == 'Burglary': #5.8 Years\n",
    "        return 4\n",
    "    elif type == 'Robbery': #9.0 Years\n",
    "        return 5\n",
    "    elif type == 'Rape': #12.2 Years\n",
    "        return 6\n",
    "    elif type == 'Murder Crimes': #40.6 Years\n",
    "        return 7\n",
    "\n",
    "crime['severity_indicator'] = crime['Highest_NIBRS_UCR_Offense_Description'].apply(get_severity)"
   ]
  },
  {
   "cell_type": "code",
   "execution_count": null,
   "id": "b5f08c6a",
   "metadata": {},
   "outputs": [],
   "source": [
    "sns.displot(data=crime, x='Medianhouseholdincome', kind='kde', hue='severity_indicator')"
   ]
  },
  {
   "cell_type": "markdown",
   "id": "a3bcc086",
   "metadata": {},
   "source": [
    "Distributions are far from normal and the sample sizes are not close to being even."
   ]
  },
  {
   "cell_type": "markdown",
   "id": "71d753ff",
   "metadata": {},
   "source": [
    "## Median Income by Number of Crimes"
   ]
  },
  {
   "cell_type": "code",
   "execution_count": null,
   "id": "dd9f74e4",
   "metadata": {},
   "outputs": [],
   "source": [
    "pop_density = pd.read_csv('AustinZipCodes.csv')"
   ]
  },
  {
   "cell_type": "code",
   "execution_count": null,
   "id": "e6fa6cef",
   "metadata": {},
   "outputs": [],
   "source": [
    "zip_crime_counts = crime.groupby(['Medianhouseholdincome', 'Zip_Code_Crime']).size().reset_index(name='count')\n"
   ]
  },
  {
   "cell_type": "code",
   "execution_count": null,
   "id": "78321249",
   "metadata": {},
   "outputs": [],
   "source": [
    "zip_density = pd.merge(pop_density, zip_crime_counts, left_on='Zip Code', right_on='Zip_Code_Crime', how='inner')\n",
    "zip_density['Population'] = zip_density['Population'].str.replace(',', '').astype(float)"
   ]
  },
  {
   "cell_type": "code",
   "execution_count": null,
   "id": "16665669",
   "metadata": {},
   "outputs": [],
   "source": [
    "zip_density['crime_per_population'] = zip_density['count'] / zip_density['Population'].astype(int)\n",
    "sns.scatterplot(data=zip_density, x='Medianhouseholdincome', y='crime_per_population')\n",
    "plt.title('Scatter Plot of Median Household Income by Crime Per Population')\n",
    "zip_density_no_outlier = zip_density[zip_density['crime_per_population'] < .5]\n",
    "plt.figure()\n",
    "plt.title('Scatter Plot of Median Household Income by Crime Per Population (no outlier)')\n",
    "sns.scatterplot(data=zip_density_no_outlier, x='Medianhouseholdincome', y='crime_per_population')"
   ]
  },
  {
   "cell_type": "code",
   "execution_count": null,
   "id": "2ea9c11d",
   "metadata": {},
   "outputs": [],
   "source": [
    "stats.pearsonr(zip_density_no_outlier['Medianhouseholdincome'], zip_density_no_outlier['crime_per_population'])"
   ]
  },
  {
   "cell_type": "code",
   "execution_count": null,
   "id": "8455f93d",
   "metadata": {},
   "outputs": [],
   "source": [
    "crime.info()"
   ]
  },
  {
   "cell_type": "markdown",
   "id": "021376f5",
   "metadata": {},
   "source": [
    "# Is there a relationship between affordable housing and different types of crime?"
   ]
  },
  {
   "cell_type": "code",
   "execution_count": null,
   "id": "c6574b11",
   "metadata": {},
   "outputs": [],
   "source": [
    "crime = crime.rename(\n",
    "    columns={'Homesaffordabletopeopleearninglessthan$50000':'affordability_50k_pct',\n",
    "             'Rentalsaffordabletopeopleearninglessthan$25000': 'rent_affordability_25k_pct'}\n",
    ")\n",
    "crime['affordability_50k_pct'] = crime['affordability_50k_pct'].str.replace('%', '').astype(float)\n",
    "crime['rent_affordability_25k_pct'] = crime['rent_affordability_25k_pct'].str.replace('%', '').astype(float)"
   ]
  },
  {
   "cell_type": "code",
   "execution_count": null,
   "id": "068dd1a2",
   "metadata": {},
   "outputs": [],
   "source": [
    "# Get zip code of crime against homes affordable to people earning less than $50,000\n",
    "zip_affordable = crime[['Zip_Code_Crime', 'Zip_Code_Housing', 'affordability_50k_pct', 'rent_affordability_25k_pct']].drop_duplicates()\n",
    "zip_affordable.head(15)"
   ]
  },
  {
   "cell_type": "markdown",
   "id": "61c8d456",
   "metadata": {},
   "source": [
    "Dropping duplicates here looks at all columns by default so we aren't losing any valuable information.\n",
    "\n",
    "It looks like all housing and crime zip codes are the same for non NaN rows. Let's just get the Zip_Code_Crime column and drop the Zip_Code_Housing one, since the former seems to be more complete, and drop the remaining NaN rows."
   ]
  },
  {
   "cell_type": "code",
   "execution_count": null,
   "id": "defb0c04",
   "metadata": {},
   "outputs": [],
   "source": [
    "zip_afforable = zip_affordable.drop(columns=['Zip_Code_Housing']).dropna()\n",
    "zip_afforable.head(10)"
   ]
  },
  {
   "cell_type": "code",
   "execution_count": null,
   "id": "8a83a5f5",
   "metadata": {},
   "outputs": [],
   "source": [
    "# get counts of each type of crime in each zip code\n",
    "crime_counts = crime.groupby(['Zip_Code_Crime', 'Highest_NIBRS_UCR_Offense_Description', ]).size().reset_index(name='counts')\n",
    "\n",
    "zip_counts = zip_afforable.merge(right=crime_counts, on=\"Zip_Code_Crime\")\n",
    "zip_counts"
   ]
  },
  {
   "cell_type": "code",
   "execution_count": null,
   "id": "9d94e22f",
   "metadata": {},
   "outputs": [],
   "source": [
    "# We need to account for population\n",
    "pops = pd.read_csv('AustinZipCodes.csv')\n",
    "pops = pops[['Zip Code', 'Population']].sort_values(by='Zip Code').reset_index(drop=True)\n",
    "pops.head(10)"
   ]
  },
  {
   "cell_type": "code",
   "execution_count": null,
   "id": "1e76bb43",
   "metadata": {},
   "outputs": [],
   "source": [
    "# Merge populations with zip_crime and calculate thefts per 1000 people\n",
    "zip_crime_p1000 = zip_counts.merge(right=pops, left_on='Zip_Code_Crime', right_on='Zip Code').drop(columns=['Zip_Code_Crime'])\n",
    "zip_crime_p1000\n",
    "\n",
    "zip_crime_p1000['Population'] = zip_crime_p1000['Population'].str.replace(',', '').astype(int)\n",
    "zip_crime_p1000['count_p1000'] = zip_crime_p1000['counts'] / zip_crime_p1000['Population'] * 1000 # Crime count per 1000 people\n",
    "zip_crime_p1000"
   ]
  },
  {
   "cell_type": "code",
   "execution_count": null,
   "id": "158edf53",
   "metadata": {},
   "outputs": [],
   "source": [
    "total_crime_p1000 = zip_crime_p1000.groupby(['Zip Code', 'affordability_50k_pct', 'rent_affordability_25k_pct']).agg({'count_p1000': 'sum'}).reset_index()\n",
    "\n",
    "sns.scatterplot(data=total_crime_p1000, x='affordability_50k_pct', y='count_p1000')\n",
    "plt.title(\"Total crime counts per 1000 people vs percent\\naffordable housing in each zip code\")\n",
    "\n",
    "# now do a pearson correlation\n",
    "pearsonr(total_crime_p1000['affordability_50k_pct'], total_crime_p1000['count_p1000'])"
   ]
  },
  {
   "cell_type": "code",
   "execution_count": null,
   "id": "eef224e0",
   "metadata": {},
   "outputs": [],
   "source": [
    "# note the outlier\n",
    "display(total_crime_p1000[total_crime_p1000['count_p1000'] > 400])\n",
    "\n",
    "# Get rid of the outlier\n",
    "total_crime_no_outlier = total_crime_p1000[total_crime_p1000['count_p1000'] < 400]\n",
    "sns.scatterplot(data=total_crime_no_outlier, x='affordability_50k_pct', y='count_p1000')\n",
    "plt.title(\"Total crime counts per 1000 people vs percent\\naffordable housing in each zip code\")\n",
    "\n",
    "# now do a pearson correlation\n",
    "pearsonr(total_crime_no_outlier['affordability_50k_pct'], total_crime_no_outlier['count_p1000'])"
   ]
  },
  {
   "cell_type": "markdown",
   "id": "c3796335",
   "metadata": {},
   "source": [
    "## Different types of crime vs affordable housing\n",
    "\n",
    "### Burglary"
   ]
  },
  {
   "cell_type": "code",
   "execution_count": null,
   "id": "6cb3d7ef",
   "metadata": {},
   "outputs": [],
   "source": [
    "# Get burglaries per 1000 people against affordability\n",
    "burglary_p1000_housing = zip_crime_p1000[zip_crime_p1000['Highest_NIBRS_UCR_Offense_Description'] == 'Burglary']\n",
    "\n",
    "sns.scatterplot(data=burglary_p1000_housing, x='affordability_50k_pct', y='count_p1000')\n",
    "plt.title(\"Burglary counts per 1000 people vs percent\\naffordable housing in each zip code\")\n",
    "\n",
    "# now do a pearson correlation\n",
    "pearsonr(burglary_p1000_housing['affordability_50k_pct'], burglary_p1000_housing['count_p1000'])"
   ]
  },
  {
   "cell_type": "code",
   "execution_count": null,
   "id": "7ff68b9a",
   "metadata": {},
   "outputs": [],
   "source": [
    "# Note the obvious outliers\n",
    "display(burglary_p1000_housing[burglary_p1000_housing['count_p1000'] > 20])\n",
    "\n",
    "# Remove the outlier\n",
    "burglary_no_outliers = burglary_p1000_housing[burglary_p1000_housing['count_p1000'] < 20]\n",
    "sns.scatterplot(data=burglary_no_outliers, x='affordability_50k_pct', y='count_p1000')\n",
    "plt.title(\"Burglary counts per 1000 people vs percent\\naffordable housing in each zip code (no outlier)\")\n",
    "\n",
    "# now do a pearson correlation\n",
    "pearsonr(burglary_no_outliers['affordability_50k_pct'], burglary_no_outliers['count_p1000'])"
   ]
  },
  {
   "cell_type": "markdown",
   "id": "e1862a8e",
   "metadata": {},
   "source": [
    "### Theft"
   ]
  },
  {
   "cell_type": "code",
   "execution_count": null,
   "id": "ab04a13a",
   "metadata": {},
   "outputs": [],
   "source": [
    "# Get thefts per 1000 people against affordability\n",
    "theft_p1000_housing = zip_crime_p1000[zip_crime_p1000['Highest_NIBRS_UCR_Offense_Description'] == 'Theft']\n",
    "\n",
    "sns.scatterplot(data=theft_p1000_housing, x='affordability_50k_pct', y='count_p1000')\n",
    "plt.title(\"Theft counts per 1000 people vs percent\\naffordable housing in each zip code\")\n",
    "\n",
    "# now do a pearson correlation\n",
    "pearsonr(theft_p1000_housing['affordability_50k_pct'], theft_p1000_housing['count_p1000'])"
   ]
  },
  {
   "cell_type": "code",
   "execution_count": null,
   "id": "ad0e5e5c",
   "metadata": {},
   "outputs": [],
   "source": [
    "# Note the obvious outlier\n",
    "display(theft_p1000_housing[theft_p1000_housing['count_p1000'] > 100])\n",
    "\n",
    "# Remove the outlier\n",
    "theft_no_outliers = theft_p1000_housing[theft_p1000_housing['count_p1000'] < 100]\n",
    "sns.scatterplot(data=theft_no_outliers, x='affordability_50k_pct', y='count_p1000')\n",
    "plt.title(\"Theft counts per 1000 people vs percent\\naffordable housing in each zip code (no outlier)\")\n",
    "\n",
    "# now do a pearson correlation\n",
    "pearsonr(theft_no_outliers['affordability_50k_pct'], theft_no_outliers['count_p1000'])"
   ]
  },
  {
   "cell_type": "markdown",
   "id": "538903fe",
   "metadata": {},
   "source": [
    "# What about rental housing?"
   ]
  },
  {
   "cell_type": "code",
   "execution_count": null,
   "id": "35167cdc",
   "metadata": {},
   "outputs": [],
   "source": [
    "sns.scatterplot(data=total_crime_p1000, x='rent_affordability_25k_pct', y='count_p1000')\n",
    "plt.title(\"Total crime counts per 1000 people vs percent\\naffordable rental housing in each zip code\")\n",
    "\n",
    "# Pearson correlation\n",
    "pearsonr(total_crime_p1000['rent_affordability_25k_pct'], total_crime_p1000['count_p1000'])"
   ]
  },
  {
   "cell_type": "code",
   "execution_count": null,
   "id": "0c57aa9e",
   "metadata": {},
   "outputs": [],
   "source": [
    "# Note the outlier\n",
    "display(total_crime_p1000[total_crime_p1000['count_p1000'] > 400])\n",
    "\n",
    "# Get rid of the outlier\n",
    "total_crime_no_outlier = total_crime_p1000[total_crime_p1000['count_p1000'] < 400]\n",
    "sns.scatterplot(data=total_crime_no_outlier, x='rent_affordability_25k_pct', y='count_p1000')\n",
    "plt.title(\"Total crime counts per capita vs percent\\naffordable rental housing in each zip code (no outlier)\")\n",
    "\n",
    "# Pearson correlation\n",
    "pearsonr(total_crime_no_outlier['rent_affordability_25k_pct'], total_crime_no_outlier['count_p1000'])"
   ]
  },
  {
   "cell_type": "markdown",
   "id": "a3223684",
   "metadata": {},
   "source": [
    "### Burglary"
   ]
  },
  {
   "cell_type": "code",
   "execution_count": null,
   "id": "c4d5dd90",
   "metadata": {},
   "outputs": [],
   "source": [
    "# Get burglaries per 1000 people against affordability\n",
    "burglary_p1000_rental = zip_crime_p1000[zip_crime_p1000['Highest_NIBRS_UCR_Offense_Description'] == 'Burglary']\n",
    "\n",
    "sns.scatterplot(data=burglary_p1000_rental, x='rent_affordability_25k_pct', y='count_p1000')\n",
    "plt.title(\"Burglary counts per 1000 people vs percent\\naffordable housing in each zip code\")\n",
    "\n",
    "# do a pearson correlation\n",
    "pearsonr(burglary_p1000_rental['rent_affordability_25k_pct'], burglary_p1000_rental['count_p1000'])"
   ]
  },
  {
   "cell_type": "code",
   "execution_count": null,
   "id": "3ca308a4",
   "metadata": {},
   "outputs": [],
   "source": [
    "# Note the outliers above 15\n",
    "display(burglary_p1000_rental[burglary_p1000_rental['count_p1000'] > 15])\n",
    "\n",
    "# Remove the outliers\n",
    "burglary_no_outliers = burglary_p1000_rental[burglary_p1000_rental['count_p1000'] < 15]\n",
    "sns.scatterplot(data=burglary_no_outliers, x='rent_affordability_25k_pct', y='count_p1000')\n",
    "plt.title(\"Burglary counts per 1000 people vs percent\\naffordable rental housing in each zip code(no outliers)\")\n",
    "\n",
    "# do a pearson correlation\n",
    "pearsonr(burglary_no_outliers['rent_affordability_25k_pct'], burglary_no_outliers['count_p1000'])"
   ]
  },
  {
   "cell_type": "markdown",
   "id": "170b429f",
   "metadata": {},
   "source": [
    "### Theft"
   ]
  },
  {
   "cell_type": "code",
   "execution_count": null,
   "id": "95d65adf",
   "metadata": {},
   "outputs": [],
   "source": [
    "# Plot thefts per capita per 1000 people against affordability\n",
    "theft_p1000_rental = zip_crime_p1000[zip_crime_p1000['Highest_NIBRS_UCR_Offense_Description'] == 'Theft']\n",
    "\n",
    "sns.scatterplot(data=theft_p1000_rental, x='rent_affordability_25k_pct', y='count_p1000')\n",
    "plt.title(\"Theft counts per 1000 people vs percent\\naffordable housing in each zip code\")\n",
    "\n",
    "# do a pearson correlation\n",
    "pearsonr(theft_p1000_rental['rent_affordability_25k_pct'], theft_p1000_rental['count_p1000'])"
   ]
  },
  {
   "cell_type": "code",
   "execution_count": null,
   "id": "ff341b3f",
   "metadata": {},
   "outputs": [],
   "source": [
    "# Note the outliers above 15\n",
    "display(theft_p1000_rental[theft_p1000_rental['count_p1000'] > 100])\n",
    "\n",
    "# Remove the outliers\n",
    "theft_no_outliers = theft_p1000_rental[theft_p1000_rental['count_p1000'] < 100]\n",
    "sns.scatterplot(data=theft_no_outliers, x='rent_affordability_25k_pct', y='count_p1000')\n",
    "plt.title(\"Theft counts per 1000 people vs percent\\naffordable rental housing in each zip code (no outlier)\")\n",
    "\n",
    "# do a pearson correlation\n",
    "pearsonr(theft_no_outliers['rent_affordability_25k_pct'], theft_no_outliers['count_p1000'])"
   ]
  },
  {
   "cell_type": "markdown",
   "id": "1d2a57b5",
   "metadata": {},
   "source": [
    "# Cool extra thing"
   ]
  },
  {
   "cell_type": "code",
   "execution_count": null,
   "id": "2170f265",
   "metadata": {},
   "outputs": [],
   "source": [
    "# Plot crimes by x and y coordinates\n",
    "plt.figure(figsize=(10, 10))\n",
    "sns.scatterplot(x='X_Coordinate', y='Y_Coordinate', data=crime, alpha=0.1, s=5)"
   ]
  }
 ],
 "metadata": {
  "kernelspec": {
   "display_name": "Python 3 (ipykernel)",
   "language": "python",
   "name": "python3"
  },
  "language_info": {
   "codemirror_mode": {
    "name": "ipython",
    "version": 3
   },
   "file_extension": ".py",
   "mimetype": "text/x-python",
   "name": "python",
   "nbconvert_exporter": "python",
   "pygments_lexer": "ipython3",
   "version": "3.10.12"
  }
 },
 "nbformat": 4,
 "nbformat_minor": 5
}
