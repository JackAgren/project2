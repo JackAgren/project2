{
 "cells": [
  {
   "cell_type": "code",
   "execution_count": null,
   "id": "de9e637e-0254-49b2-982b-000682385a6e",
   "metadata": {},
   "outputs": [],
   "source": [
    "import pandas as pd\n",
    "import seaborn as sns\n",
    "import matplotlib.pyplot as plt"
   ]
  },
  {
   "cell_type": "code",
   "execution_count": null,
   "id": "02c12749-539a-41a9-ad11-378718750243",
   "metadata": {},
   "outputs": [],
   "source": [
    "crime = pd.read_csv('crime-housing-austin-2015.csv')"
   ]
  },
  {
   "cell_type": "code",
   "execution_count": null,
   "id": "78eb8d5f-4e7c-410b-9594-5dd80b4dfcbb",
   "metadata": {},
   "outputs": [],
   "source": [
    "#Report_Date column is a String.\n",
    "crime['Report_Date'].dtype\n",
    "crime['Report_Date'] = pd.to_datetime(crime['Report_Date'], format='%d-%b-%y')"
   ]
  },
  {
   "cell_type": "code",
   "execution_count": null,
   "id": "59f5c087-f0a4-4084-95ef-914a0a77e67c",
   "metadata": {},
   "outputs": [],
   "source": [
    "YEAR = 2015\n",
    "spring_start = pd.Timestamp(month=3, day=21, year=YEAR)\n",
    "summer_start = pd.Timestamp(month=6, day=21, year=YEAR)\n",
    "fall_start = pd.Timestamp(month=9, day=23, year=YEAR)\n",
    "winter_start = pd.Timestamp(month=12, day=21, year=YEAR)\n",
    "\n",
    "def get_season(date):\n",
    "    if date >= spring_start and date < summer_start:\n",
    "        return 'Spring'\n",
    "    elif date >= summer_start and date < fall_start:\n",
    "        return 'Summer'\n",
    "    elif date >= fall_start and date < winter_start:\n",
    "        return 'Fall'\n",
    "    else:\n",
    "        return 'Winter'\n",
    "\n",
    "crime['Season'] = crime['Report_Date'].apply(get_season)"
   ]
  },
  {
   "cell_type": "code",
   "execution_count": null,
   "id": "64881094",
   "metadata": {},
   "outputs": [],
   "source": [
    "season_counts = crime.groupby('Season').agg({'Report_Date':'size'}).reset_index()\n",
    "display(season_counts)\n",
    "day_counts = crime.groupby(['Report_Date', 'Season']).size().reset_index(name='count')\n",
    "sns.barplot(data=season_counts, x='Season', y='Report_Date')\n",
    "plt.title('Total crimes by season')\n",
    "plt.figure()\n",
    "sns.scatterplot(data=day_counts, x='Report_Date', y='count')\n",
    "plt.title('Number of crimes each day')"
   ]
  },
  {
   "cell_type": "code",
   "execution_count": null,
   "id": "5235a7f1",
   "metadata": {},
   "outputs": [],
   "source": [
    "day_counts['count']\n",
    "sns.displot(data=day_counts, x='count', kind='kde', hue='Season')"
   ]
  },
  {
   "cell_type": "markdown",
   "id": "ee781c91",
   "metadata": {},
   "source": [
    "Anova Assumptions: \n",
    "+ Data are normally distributed. Looks like it from the plots, and n is large.\n",
    "+ Data have the same variance: Could test this more but probably good\n",
    "+ Data are independent: The scatterplot above is evidence of this.\n"
   ]
  },
  {
   "cell_type": "code",
   "execution_count": null,
   "id": "e80f3977",
   "metadata": {},
   "outputs": [],
   "source": [
    "import scipy.stats as stats\n",
    "#Significance threshold: .05\n",
    "display(stats.f_oneway(day_counts[day_counts['Season'] == 'Winter']['count'], \n",
    "               day_counts[day_counts['Season'] == 'Spring']['count'], \n",
    "               day_counts[day_counts['Season'] == 'Summer']['count'], \n",
    "               day_counts[day_counts['Season'] == 'Fall']['count']))\n"
   ]
  },
  {
   "cell_type": "code",
   "execution_count": null,
   "id": "e965c1e9",
   "metadata": {},
   "outputs": [],
   "source": [
    "#We can do this since the anova gave a significant result.\n",
    "\n",
    "tukey_pvalue = stats.tukey_hsd(day_counts[day_counts['Season'] == 'Winter']['count'], \n",
    "               day_counts[day_counts['Season'] == 'Spring']['count'], \n",
    "               day_counts[day_counts['Season'] == 'Summer']['count'], \n",
    "               day_counts[day_counts['Season'] == 'Fall']['count']).pvalue\n",
    "tukey = pd.DataFrame(tukey_pvalue)\n",
    "tukey.columns=['Winter', 'Spring', 'Summer', 'Fall']\n",
    "tukey"
   ]
  },
  {
   "cell_type": "markdown",
   "id": "7abc8d2f",
   "metadata": {},
   "source": [
    "This shows that winter and summer are significantly different, but none of the others."
   ]
  },
  {
   "cell_type": "markdown",
   "id": "d8e03605",
   "metadata": {},
   "source": [
    "## Crime Type"
   ]
  },
  {
   "cell_type": "code",
   "execution_count": null,
   "id": "7e98296a",
   "metadata": {},
   "outputs": [],
   "source": [
    "crime_types = crime.groupby('Highest_NIBRS_UCR_Offense_Description')['Key'].nunique().reset_index(name='crime_sum')"
   ]
  },
  {
   "cell_type": "code",
   "execution_count": null,
   "id": "7256dbc9",
   "metadata": {},
   "outputs": [],
   "source": [
    "plt.figure(figsize=(8,4))\n",
    "bar = sns.barplot(x='Highest_NIBRS_UCR_Offense_Description', y='crime_sum', data=crime_types)\n",
    "bar.set_xticklabels(bar.get_xticklabels(), rotation=0)\n",
    "bar.set(xlabel='Crimes', ylabel='Number of Crimes', title='Crimes by Number of Crimes')\n",
    "plt.show()"
   ]
  },
  {
   "cell_type": "markdown",
   "id": "80767214",
   "metadata": {},
   "source": [
    "## Crimes by Season"
   ]
  },
  {
   "cell_type": "code",
   "execution_count": null,
   "id": "d45759c0",
   "metadata": {},
   "outputs": [],
   "source": [
    "fall_crime = crime[crime['Season'] == 'Fall']\n",
    "crime_types_fall = fall_crime.groupby('Highest_NIBRS_UCR_Offense_Description')['Key'].nunique().reset_index(name='crime_sum')\n",
    "\n",
    "spring_crime = crime[crime['Season'] == 'Spring']\n",
    "crime_types_spring = spring_crime.groupby('Highest_NIBRS_UCR_Offense_Description')['Key'].nunique().reset_index(name='crime_sum')\n",
    "\n",
    "winter_crime = crime[crime['Season'] == 'Winter']\n",
    "crime_types_winter = winter_crime.groupby('Highest_NIBRS_UCR_Offense_Description')['Key'].nunique().reset_index(name='crime_sum')\n",
    "\n",
    "summer_crime = crime[crime['Season'] == 'Summer']\n",
    "crime_types_summer = summer_crime.groupby('Highest_NIBRS_UCR_Offense_Description')['Key'].nunique().reset_index(name='crime_sum')"
   ]
  },
  {
   "cell_type": "code",
   "execution_count": null,
   "id": "1e1a9cc0",
   "metadata": {},
   "outputs": [],
   "source": [
    "plt.figure(figsize=(8,4))\n",
    "plt.ylim(0,8000)\n",
    "bar = sns.barplot(x='Highest_NIBRS_UCR_Offense_Description', y='crime_sum', data=crime_types_fall)\n",
    "bar.set_xticklabels(bar.get_xticklabels(), rotation=0)\n",
    "bar.set(xlabel='Crimes', ylabel='Number of Crimes', title='Crimes by Number of Crimes in Fall')\n",
    "plt.show()\n",
    "\n",
    "plt.figure(figsize=(8,4))\n",
    "plt.ylim(0,8000)\n",
    "bar = sns.barplot(x='Highest_NIBRS_UCR_Offense_Description', y='crime_sum', data=crime_types_spring)\n",
    "bar.set_xticklabels(bar.get_xticklabels(), rotation=0)\n",
    "bar.set(xlabel='Crimes', ylabel='Number of Crimes', title='Crimes by Number of Crimes in Spring')\n",
    "plt.show()\n",
    "\n",
    "plt.figure(figsize=(8,4))\n",
    "plt.ylim(0,8000)\n",
    "bar = sns.barplot(x='Highest_NIBRS_UCR_Offense_Description', y='crime_sum', data=crime_types_winter)\n",
    "bar.set_xticklabels(bar.get_xticklabels(), rotation=0)\n",
    "bar.set(xlabel='Crimes', ylabel='Number of Crimes', title='Crimes by Number of Crimes in Winter')\n",
    "plt.show()\n",
    "\n",
    "plt.figure(figsize=(8,4))\n",
    "plt.ylim(0,8000)\n",
    "bar = sns.barplot(x='Highest_NIBRS_UCR_Offense_Description', y='crime_sum', data=crime_types_summer)\n",
    "bar.set_xticklabels(bar.get_xticklabels(), rotation=0)\n",
    "bar.set(xlabel='Crimes', ylabel='Number of Crimes', title='Crimes by Number of Crimes in Summer')\n",
    "plt.show()"
   ]
  }
 ],
 "metadata": {
  "kernelspec": {
   "display_name": "Python 3 (ipykernel)",
   "language": "python",
   "name": "python3"
  },
  "language_info": {
   "codemirror_mode": {
    "name": "ipython",
    "version": 3
   },
   "file_extension": ".py",
   "mimetype": "text/x-python",
   "name": "python",
   "nbconvert_exporter": "python",
   "pygments_lexer": "ipython3",
   "version": "3.10.1"
  }
 },
 "nbformat": 4,
 "nbformat_minor": 5
}
